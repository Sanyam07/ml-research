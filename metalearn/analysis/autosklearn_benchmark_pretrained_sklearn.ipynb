{
 "cells": [
  {
   "cell_type": "markdown",
   "metadata": {},
   "source": [
    "# Auto-sklearn Benchmark using Pretrained Sklearn Baseline CASHNet Agent"
   ]
  }
 ],
 "metadata": {
  "kernelspec": {
   "display_name": "ml-research",
   "language": "python",
   "name": "ml-research"
  },
  "language_info": {
   "codemirror_mode": {
    "name": "ipython",
    "version": 3
   },
   "file_extension": ".py",
   "mimetype": "text/x-python",
   "name": "python",
   "nbconvert_exporter": "python",
   "pygments_lexer": "ipython3",
   "version": "3.6.4"
  }
 },
 "nbformat": 4,
 "nbformat_minor": 2
}

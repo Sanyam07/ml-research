{
 "cells": [
  {
   "cell_type": "markdown",
   "metadata": {},
   "source": [
    "# Auto-sklearn Benchmark using Pretrained Sklearn Baseline CASHNet Agent"
   ]
  }
 ],
 "metadata": {
  "kernelspec": {
   "display_name": "meta-ml",
   "language": "python",
   "name": "meta-ml"
  },
  "language_info": {
   "codemirror_mode": {
    "name": "ipython",
    "version": 3
   },
   "file_extension": ".py",
   "mimetype": "text/x-python",
   "name": "python",
   "nbconvert_exporter": "python",
   "pygments_lexer": "ipython3",
   "version": "3.7.3"
  }
 },
 "nbformat": 4,
 "nbformat_minor": 2
}
